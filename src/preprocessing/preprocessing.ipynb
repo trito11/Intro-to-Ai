{
 "cells": [
  {
   "cell_type": "markdown",
   "metadata": {},
   "source": [
    "%pip install geopy > NUL\n",
    "%pip install osmnx > NUL"
   ]
  },
  {
   "cell_type": "code",
   "execution_count": 25,
   "metadata": {},
   "outputs": [],
   "source": [
    "import math\n",
    "import copy\n",
    "import json\n",
    "import osmnx as ox\n",
    "import geopy.distance"
   ]
  },
  {
   "cell_type": "code",
   "execution_count": 26,
   "metadata": {},
   "outputs": [],
   "source": [
    "# read raw data...\n",
    "with open('raw_data.json', 'r') as f:\n",
    "    data = json.load(f)\n",
    "\n",
    "# 2 way converting...\n",
    "n = len(data['listLinks']);\n",
    "for i in range(n-1, -1, -1):\n",
    "    listLinks = data['listLinks'][i]\n",
    "    for j in listLinks:\n",
    "        # append front\n",
    "        data['listLinks'][j].append(i)\n",
    "\n",
    "for i in range (len(data['listLinks'])):\n",
    "    data['listLinks'][i].sort()\n",
    "\n",
    "# 1 way tuning...\n",
    "for source, dist in data['list1Ways']:\n",
    "    data['listLinks'][dist].remove(source)"
   ]
  },
  {
   "cell_type": "markdown",
   "metadata": {},
   "source": [
    "# Slice"
   ]
  },
  {
   "cell_type": "code",
   "execution_count": 27,
   "metadata": {},
   "outputs": [
    {
     "name": "stdout",
     "output_type": "stream",
     "text": [
      "listExpandListNodes: 8575\n",
      "listExpandSourceNode: 8575\n"
     ]
    }
   ],
   "source": [
    "# slice\n",
    "data['listExpandListNodes'] = copy.deepcopy(data['listNodes'])\n",
    "data['listExpandListLinks'] = copy.deepcopy(data['listLinks'])\n",
    "n = len(data['listLinks']);\n",
    "data['listExpandSourceNode'] =  [[] for _ in range(n)]\n",
    "\n",
    "for i in range(n):\n",
    "    listLinks = data['listLinks'][i]\n",
    "    for j in listLinks:\n",
    "        if i in data['listLinks'][j]:\n",
    "            if (i > j): continue\n",
    "\n",
    "        source = (data['listNodes'][i]['lat'], data['listNodes'][i]['lng'])\n",
    "        destination = (data['listNodes'][j]['lat'], data['listNodes'][j]['lng'])\n",
    "\n",
    "        n_slice = math.floor(\n",
    "            geopy.distance.geodesic(source, destination).m / 1\n",
    "        )\n",
    "        \n",
    "        for i_slice in range(1, n_slice):\n",
    "            lat = (i_slice/n_slice) * destination[0] + (1 - i_slice/n_slice) * source[0]\n",
    "            lng = (i_slice/n_slice) * destination[1] + (1 - i_slice/n_slice) * source[1]\n",
    "\n",
    "            point = {\"lat\": lat, \"lng\": lng}\n",
    "            data['listExpandListNodes'].append(point)\n",
    "        \n",
    "            if i in data['listLinks'][j]:\n",
    "                # node that this node can go to\n",
    "                data['listExpandListLinks'].append([i, j])\n",
    "                # node can go to this node\n",
    "                data['listExpandSourceNode'].append([i, j])\n",
    "            else: \n",
    "                # node that this node can go to\n",
    "                data['listExpandListLinks'].append([j])\n",
    "                # node can go to this node\n",
    "                data['listExpandSourceNode'].append([i])\n",
    "\n",
    "print('listExpandListNodes:', len(data['listExpandListNodes']))\n",
    "print('listExpandSourceNode:', len(data['listExpandSourceNode']))"
   ]
  },
  {
   "cell_type": "code",
   "execution_count": 28,
   "metadata": {},
   "outputs": [],
   "source": [
    "# ...and write\n",
    "with open(\"../map/data.js\", \"w\") as f:\n",
    "    f.write('const DATA = ')\n",
    "\n",
    "with open(\"../map/data.js\", \"a\") as f:\n",
    "    json.dump(data, f)"
   ]
  }
 ],
 "metadata": {
  "kernelspec": {
   "display_name": "Python 3",
   "language": "python",
   "name": "python3"
  },
  "language_info": {
   "codemirror_mode": {
    "name": "ipython",
    "version": 3
   },
   "file_extension": ".py",
   "mimetype": "text/x-python",
   "name": "python",
   "nbconvert_exporter": "python",
   "pygments_lexer": "ipython3",
   "version": "3.11.7"
  }
 },
 "nbformat": 4,
 "nbformat_minor": 2
}
